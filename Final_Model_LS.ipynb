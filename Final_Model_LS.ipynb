{
 "metadata": {
  "language_info": {
   "codemirror_mode": {
    "name": "ipython",
    "version": 3
   },
   "file_extension": ".py",
   "mimetype": "text/x-python",
   "name": "python",
   "nbconvert_exporter": "python",
   "pygments_lexer": "ipython3",
   "version": "3.7.4-final"
  },
  "orig_nbformat": 2,
  "kernelspec": {
   "name": "python_defaultSpec_1599175562231",
   "display_name": "Python 3.7.4 64-bit ('ANDREA': virtualenv)"
  }
 },
 "nbformat": 4,
 "nbformat_minor": 2,
 "cells": [
  {
   "cell_type": "code",
   "execution_count": 1,
   "metadata": {},
   "outputs": [],
   "source": [
    "import pandas as pd\n",
    "import math"
   ]
  },
  {
   "cell_type": "code",
   "execution_count": 2,
   "metadata": {},
   "outputs": [],
   "source": [
    "# Read the data frame\n",
    "df = pd.read_csv('test_instance_small.csv', sep=' ',header=None)"
   ]
  },
  {
   "cell_type": "code",
   "execution_count": 3,
   "metadata": {
    "tags": []
   },
   "outputs": [
    {
     "output_type": "stream",
     "name": "stdout",
     "text": "Number of columns:  71\nNumber of rows:  8760\n"
    }
   ],
   "source": [
    "ncols = len(df.columns)\n",
    "print('Number of columns: ', ncols)\n",
    "nrows = len(df)\n",
    "print('Number of rows: ', nrows)"
   ]
  },
  {
   "cell_type": "code",
   "execution_count": 4,
   "metadata": {},
   "outputs": [
    {
     "output_type": "execute_result",
     "data": {
      "text/plain": "796"
     },
     "metadata": {},
     "execution_count": 4
    }
   ],
   "source": [
    "# Define a threshold that represents the number of plants providing enough energy in a time period\n",
    "threshold = 200\n",
    "threshold\n",
    "\n",
    "# As we want less or the 10% of the proposed locations, we take subsets of locations with this number of locations\n",
    "locations = math.floor(nrows/11) \n",
    "locations\n"
   ]
  },
  {
   "cell_type": "code",
   "execution_count": 14,
   "metadata": {
    "tags": []
   },
   "outputs": [
    {
     "output_type": "stream",
     "name": "stdout",
     "text": "Wall time: 0 ns\n"
    }
   ],
   "source": [
    "import numpy as np\n",
    "\n",
    "# Define a function that looks if there is a solution to the maximization problem\n",
    "# This solution is not necessarily the optimal\n",
    "def find_sol(df):\n",
    "    for i in range(len(df)):\n",
    "        for col in df.columns:\n",
    "            if df.loc[i:i+locations,col].sum(axis=0) >= threshold :\n",
    "                position = i\n",
    "                print('The time period ',col,\" \", 'from the location',i,\" \", 'to the location' , i+ locations, ' has' ,df.loc[i:i+locations,col].sum(axis=0), ' plants providing energy')\n",
    "           \n",
    "                #return 0\n",
    "                return position\n"
   ]
  },
  {
   "cell_type": "code",
   "execution_count": 13,
   "metadata": {
    "tags": []
   },
   "outputs": [
    {
     "output_type": "stream",
     "name": "stdout",
     "text": "47\nWall time: 7.95 ms\n"
    }
   ],
   "source": [
    "%%time\n",
    "# Count the number of time periods that achieve the threshold for the solution obtained\n",
    "\n",
    "def count_columns(df):\n",
    "    \n",
    "    for i in range(len(df)):\n",
    "        for col in df.columns:\n",
    "            if df.loc[i:i+locations,col].sum(axis=0) >= threshold :\n",
    "                df2 = df.loc[i:i+locations,:].sum(axis=0)\n",
    "                return df2[ df2>= threshold]\n",
    "\n",
    "print(len(count_columns(df)))"
   ]
  },
  {
   "cell_type": "code",
   "execution_count": 7,
   "metadata": {},
   "outputs": [],
   "source": [
    "%%time\n",
    "# Define a function that, in a given subset of the data frame, looks if there is a solution, ie, a time period when there are at least n energy sources providing energy\n",
    "# The number n is the threshold\n",
    "\n",
    "def find_sol2(df):\n",
    "    sum=0\n",
    "    for col in df.columns:\n",
    "        \n",
    "        if df.loc[:,col].sum(axis=0) >= threshold :\n",
    "            sum = sum +1\n",
    "            print(col,\" \",i,\" \",df.loc[:,col].sum(axis=0))\n",
    "\n",
    "    return sum"
   ]
  },
  {
   "cell_type": "code",
   "execution_count": 8,
   "metadata": {
    "tags": []
   },
   "outputs": [
    {
     "output_type": "stream",
     "name": "stdout",
     "text": "The time period  3   from the location 0   to the location 796  has 362.0  plants providing energy\n0\nThe number of time periods for these locations is  47\n"
    }
   ],
   "source": [
    "initial_solution = find_sol(df)\n",
    "print(initial_solution)\n",
    "print('The number of time periods for these locations is ',len(count_columns(df)))"
   ]
  },
  {
   "cell_type": "code",
   "execution_count": 15,
   "metadata": {
    "tags": []
   },
   "outputs": [
    {
     "output_type": "stream",
     "name": "stdout",
     "text": "Data frame:  0\n2   0   201.0\n3   0   407.0\n7   0   221.0\n8   0   206.0\n9   0   222.0\n10   0   216.0\n12   0   221.0\n13   0   213.0\n15   0   240.0\n16   0   248.0\n17   0   381.0\n18   0   218.0\n19   0   406.0\n20   0   447.0\n21   0   365.0\n22   0   420.0\n24   0   236.0\n25   0   290.0\n26   0   221.0\n27   0   286.0\n28   0   431.0\n29   0   446.0\n30   0   208.0\n32   0   425.0\n33   0   414.0\n34   0   430.0\n35   0   437.0\n36   0   457.0\n37   0   458.0\n38   0   445.0\n39   0   454.0\n40   0   441.0\n41   0   452.0\n42   0   350.0\n43   0   424.0\n44   0   259.0\n45   0   370.0\n46   0   219.0\n47   0   253.0\n48   0   203.0\n49   0   239.0\n50   0   436.0\n51   0   453.0\n52   0   423.0\n53   0   447.0\n54   0   288.0\n55   0   396.0\n56   0   260.0\n57   0   370.0\n58   0   257.0\n59   0   443.0\n60   0   461.0\n61   0   450.0\n62   0   458.0\n63   0   462.0\n64   0   468.0\n65   0   327.0\n66   0   269.0\n67   0   231.0\n68   0   449.0\n69   0   452.0\n70   0   444.0\n\nData frame:  1\n2   1   209.0\n3   1   390.0\n7   1   219.0\n9   1   210.0\n10   1   222.0\n12   1   225.0\n13   1   215.0\n14   1   210.0\n15   1   211.0\n16   1   238.0\n17   1   373.0\n18   1   229.0\n19   1   399.0\n20   1   441.0\n21   1   365.0\n22   1   416.0\n24   1   233.0\n25   1   280.0\n26   1   204.0\n27   1   267.0\n28   1   434.0\n29   1   448.0\n32   1   396.0\n33   1   394.0\n34   1   405.0\n35   1   435.0\n36   1   456.0\n37   1   455.0\n38   1   453.0\n39   1   456.0\n40   1   452.0\n41   1   459.0\n42   1   339.0\n43   1   398.0\n44   1   256.0\n45   1   351.0\n46   1   202.0\n47   1   232.0\n49   1   219.0\n50   1   426.0\n51   1   454.0\n52   1   414.0\n53   1   442.0\n54   1   275.0\n55   1   392.0\n56   1   258.0\n57   1   371.0\n58   1   257.0\n59   1   444.0\n60   1   456.0\n61   1   448.0\n62   1   451.0\n63   1   454.0\n64   1   454.0\n65   1   312.0\n66   1   251.0\n67   1   220.0\n68   1   449.0\n69   1   454.0\n70   1   443.0\n\nData frame:  2\n2   2   206.0\n3   2   411.0\n4   2   201.0\n7   2   224.0\n9   2   211.0\n10   2   221.0\n12   2   223.0\n13   2   221.0\n14   2   213.0\n15   2   216.0\n16   2   243.0\n17   2   383.0\n18   2   217.0\n19   2   405.0\n20   2   431.0\n21   2   380.0\n22   2   425.0\n24   2   226.0\n25   2   291.0\n26   2   221.0\n27   2   271.0\n28   2   431.0\n29   2   452.0\n30   2   211.0\n32   2   422.0\n33   2   415.0\n34   2   418.0\n35   2   446.0\n36   2   457.0\n37   2   463.0\n38   2   457.0\n39   2   463.0\n40   2   451.0\n41   2   447.0\n42   2   358.0\n43   2   415.0\n44   2   258.0\n45   2   363.0\n46   2   215.0\n47   2   240.0\n49   2   216.0\n50   2   435.0\n51   2   452.0\n52   2   420.0\n53   2   442.0\n54   2   273.0\n55   2   395.0\n56   2   239.0\n57   2   375.0\n58   2   233.0\n59   2   451.0\n60   2   450.0\n61   2   451.0\n62   2   444.0\n63   2   455.0\n64   2   451.0\n65   2   322.0\n66   2   252.0\n67   2   221.0\n68   2   448.0\n69   2   455.0\n70   2   446.0\n\nData frame:  3\n3   3   394.0\n7   3   214.0\n9   3   202.0\n10   3   211.0\n12   3   214.0\n13   3   202.0\n15   3   221.0\n16   3   229.0\n17   3   373.0\n18   3   209.0\n19   3   395.0\n20   3   438.0\n21   3   357.0\n22   3   423.0\n24   3   204.0\n25   3   272.0\n27   3   251.0\n28   3   425.0\n29   3   439.0\n32   3   409.0\n33   3   398.0\n34   3   424.0\n35   3   452.0\n36   3   479.0\n37   3   491.0\n38   3   462.0\n39   3   480.0\n40   3   460.0\n41   3   468.0\n42   3   336.0\n43   3   418.0\n44   3   237.0\n45   3   361.0\n46   3   200.0\n47   3   215.0\n49   3   205.0\n50   3   423.0\n51   3   444.0\n52   3   414.0\n53   3   436.0\n54   3   268.0\n55   3   404.0\n56   3   234.0\n57   3   386.0\n58   3   241.0\n59   3   461.0\n60   3   465.0\n61   3   461.0\n62   3   463.0\n63   3   472.0\n64   3   467.0\n65   3   299.0\n66   3   229.0\n67   3   208.0\n68   3   459.0\n69   3   467.0\n70   3   455.0\n\nData frame:  4\n3   4   400.0\n7   4   201.0\n12   4   200.0\n13   4   202.0\n15   4   205.0\n16   4   227.0\n17   4   366.0\n18   4   202.0\n19   4   387.0\n20   4   433.0\n21   4   354.0\n22   4   423.0\n24   4   222.0\n25   4   285.0\n26   4   209.0\n27   4   259.0\n28   4   431.0\n29   4   457.0\n32   4   409.0\n33   4   388.0\n34   4   414.0\n35   4   446.0\n36   4   475.0\n37   4   480.0\n38   4   462.0\n39   4   471.0\n40   4   457.0\n41   4   466.0\n42   4   329.0\n43   4   400.0\n44   4   260.0\n45   4   358.0\n46   4   206.0\n47   4   235.0\n49   4   224.0\n50   4   430.0\n51   4   455.0\n52   4   414.0\n53   4   439.0\n54   4   273.0\n55   4   405.0\n56   4   251.0\n57   4   384.0\n58   4   252.0\n59   4   466.0\n60   4   467.0\n61   4   458.0\n62   4   468.0\n63   4   471.0\n64   4   466.0\n65   4   314.0\n66   4   254.0\n67   4   210.0\n68   4   458.0\n69   4   458.0\n70   4   452.0\n\nData frame:  5\n2   5   203.0\n3   5   413.0\n7   5   219.0\n9   5   215.0\n10   5   215.0\n12   5   224.0\n13   5   210.0\n14   5   202.0\n15   5   220.0\n16   5   249.0\n17   5   386.0\n18   5   216.0\n19   5   404.0\n20   5   444.0\n21   5   374.0\n22   5   429.0\n24   5   234.0\n25   5   290.0\n26   5   216.0\n27   5   285.0\n28   5   450.0\n29   5   451.0\n32   5   427.0\n33   5   412.0\n34   5   434.0\n35   5   445.0\n36   5   474.0\n37   5   480.0\n38   5   472.0\n39   5   469.0\n40   5   469.0\n41   5   477.0\n42   5   348.0\n43   5   426.0\n44   5   269.0\n45   5   374.0\n46   5   213.0\n47   5   255.0\n49   5   230.0\n50   5   440.0\n51   5   446.0\n52   5   424.0\n53   5   437.0\n54   5   293.0\n55   5   393.0\n56   5   258.0\n57   5   378.0\n58   5   252.0\n59   5   468.0\n60   5   473.0\n61   5   466.0\n62   5   478.0\n63   5   476.0\n64   5   473.0\n65   5   324.0\n66   5   263.0\n67   5   215.0\n68   5   466.0\n69   5   475.0\n70   5   457.0\n\nData frame:  6\n3   6   393.0\n6   6   206.0\n7   6   232.0\n8   6   222.0\n9   6   234.0\n10   6   213.0\n11   6   210.0\n12   6   225.0\n13   6   202.0\n14   6   201.0\n15   6   239.0\n16   6   237.0\n17   6   382.0\n18   6   210.0\n19   6   406.0\n20   6   432.0\n21   6   372.0\n22   6   413.0\n24   6   232.0\n25   6   302.0\n26   6   223.0\n27   6   276.0\n28   6   431.0\n29   6   437.0\n32   6   420.0\n33   6   404.0\n34   6   425.0\n35   6   439.0\n36   6   480.0\n37   6   483.0\n38   6   450.0\n39   6   469.0\n40   6   450.0\n41   6   467.0\n42   6   343.0\n43   6   420.0\n44   6   264.0\n45   6   370.0\n46   6   223.0\n47   6   244.0\n48   6   206.0\n49   6   232.0\n50   6   430.0\n51   6   439.0\n52   6   418.0\n53   6   432.0\n54   6   300.0\n55   6   398.0\n56   6   265.0\n57   6   382.0\n58   6   268.0\n59   6   445.0\n60   6   453.0\n61   6   436.0\n62   6   449.0\n63   6   474.0\n64   6   473.0\n65   6   319.0\n66   6   252.0\n67   6   215.0\n68   6   428.0\n69   6   452.0\n70   6   436.0\n\nData frame:  7\n3   7   420.0\n7   7   218.0\n8   7   200.0\n9   7   220.0\n10   7   217.0\n12   7   217.0\n13   7   209.0\n14   7   202.0\n15   7   226.0\n16   7   252.0\n17   7   392.0\n18   7   214.0\n19   7   426.0\n20   7   466.0\n21   7   396.0\n22   7   451.0\n24   7   227.0\n25   7   284.0\n26   7   212.0\n27   7   269.0\n28   7   460.0\n29   7   476.0\n30   7   209.0\n31   7   200.0\n32   7   437.0\n33   7   423.0\n34   7   441.0\n35   7   474.0\n36   7   491.0\n37   7   498.0\n38   7   491.0\n39   7   494.0\n40   7   480.0\n41   7   483.0\n42   7   358.0\n43   7445.0\n44   7   261.0\n45   7   379.0\n46   7   215.0\n47   7   234.0\n48   7   201.0\n49   7   225.0\n50   7   450.0\n51   7   474.0\n52   7   434.0\n53   7   468.0\n54   7   292.0\n55   7   437.0\n56   7   251.0\n57   7   418.0\n58   7   254.0\n59   7   474.0\n60   7   481.0\n61   7   476.0\n62   7   476.0\n63   7   485.0\n64   7   485.0\n65   7   329.0\n66   7   259.0\n67   7   217.0\n68   7   471.0\n69   7   476.0\n70   7   472.0\n\nData frame:  8\n2   8   207.0\n3   8   410.0\n7   8   200.0\n9   8   200.0\n10   8   212.0\n12   8   206.0\n13   8   213.0\n14   8   205.0\n15   8   215.0\n16   8   235.0\n17   8   385.0\n18   8   214.0\n19   8   441.0\n20   8   470.0\n21   8   399.0\n22   8   452.0\n24   8   235.0\n25   8   303.0\n26   8   229.0\n27   8   294.0\n28   8   436.0\n29   8   452.0\n30   8   202.0\n32   8   420.0\n33   8   405.0\n34   8   437.0\n35   8   472.0\n36   8   470.0\n37   8   477.0\n38   8   460.0\n39   8   469.0\n40   8   452.0\n41   8   464.0\n42   8   353.0\n43   8   433.0\n44   8   269.0\n45   8   393.0\n46   8   222.0\n47   8   262.0\n48   8   209.0\n49   8   237.0\n50   8   449.0\n51   8   453.0\n52   8   451.0\n53   8   468.0\n54   8   296.0\n55   8   431.0\n56   8   270.0\n57   8   415.0\n58   8   266.0\n59   8   458.0\n60   8   457.0\n61   8   463.0\n62   8   459.0\n63   8   459.0\n64   8   463.0\n65   8   322.0\n66   8   255.0\n67   8   222.0\n68   8   465.0\n69   8   465.0\n70   8   471.0\n\nData frame:  9\n3   9   369.0\n7   9   201.0\n10   9   200.0\n12   9   202.0\n15   9   211.0\n16   9   213.0\n17   9   352.0\n19   9   389.0\n20   9   437.0\n21   9   356.0\n22   9   421.0\n25   9   260.0\n27   9   244.0\n28   9   422.0\n29   9   433.0\n32   9   400.0\n33   9   376.0\n34   9   401.0\n35   9   446.0\n36   9   468.0\n37   9   463.0\n38   9   450.0\n39   9   463.0\n40   9   442.0\n41   9   464.0\n42   9   321.0\n43   9   396.0\n44   9   224.0\n45   9   330.0\n47   9   213.0\n49   9   202.0\n50   9   420.0\n51   9   444.0\n52   9   408.0\n53   9   438.0\n54   9   257.0\n55   9   399.0\n56   9   238.0\n57   9   381.0\n58   9   238.0\n59   9   442.0\n60   9   461.0\n61   9   450.0\n62   9   457.0\n63   9   465.0\n64   9   472.0\n65   9   292.0\n66   9   224.0\n68   9   447.0\n69   9   458.0\n70   9   446.0\n\nData frame:  10\n3   10   399.0\n7   10   213.0\n8   10   211.0\n9   10   207.0\n10   10   207.0\n12   10   215.0\n15   10   228.0\n16   10   241.0\n17   10   372.0\n18   10   211.0\n19   10   394.0\n20   10   435.0\n21   10   360.0\n22   10   419.0\n24   10   227.0\n25   10   275.0\n26   10   217.0\n27   10   265.0\n28   10   436.0\n29   10   444.0\n32   10   414.0\n33   10   411.0\n34   10   428.0\n35   10   455.0\n36   10   482.0\n37   10   487.0\n38   10   458.0\n39   10   468.0\n40   10   449.0\n41   10   467.0\n42   10   339.0\n43   10   425.0\n44   10   250.0\n45   10   366.0\n46   10   202.0\n47   10   234.0\n49   10   219.0\n50   10   426.0\n51   10   442.0\n52   10   413.0\n53   10   433.0\n54   10   276.0\n55   10   410.0\n56   10   256.0\n57   10   386.0\n58   10   249.0\n59   10   451.0\n60   10   471.0\n61   10   454.0\n62   10   474.0\n63   10   479.0\n64   10   480.0\n65   10   308.0\n66   10   256.0\n67   10   214.0\n68   10   458.0\n69   10   472.0\n70   10   454.0\n\nThe locations that maximize are the data frame  6 \n        0    1    2    3    4    5    6    7    8    9   ...   61   62   63  \\\n8724  1.0  1.0  1.0  1.0  1.0  1.0  1.0  1.0  1.0  1.0  ...  0.0  0.0  0.0   \n6153  1.0  1.0  0.0  1.0  0.0  0.0  1.0  1.0  1.0  1.0  ...  0.0  1.0  1.0   \n7712  0.0  0.0  0.0  1.0  0.0  0.0  0.0  0.0  0.0  0.0  ...  1.0  1.0  1.0   \n5777  0.0  0.0  0.0  0.0  0.0  0.0  0.0  0.0  0.0  0.0  ...  0.0  0.0  0.0   \n7479  0.0  0.0  0.0  0.0  0.0  0.0  0.0  0.0  0.0  0.0  ...  0.0  0.0  0.0   \n...   ...  ...  ...  ...  ...  ...  ...  ...  ...  ...  ...  ...  ...  ...   \n4144  0.0  0.0  1.0  1.0  1.0  1.0  0.0  1.0  0.0  1.0  ...  1.0  1.0  0.0   \n6485  0.0  0.0  1.0  1.0  0.0  0.0  1.0  1.0  1.0  1.0  ...  1.0  1.0  1.0   \n3320  0.0  0.0  0.0  1.0  0.0  0.0  0.0  0.0  0.0  0.0  ...  1.0  1.0  1.0   \n4976  0.0  0.0  0.0  1.0  0.0  0.0  0.0  0.0  0.0  0.0  ...  1.0  1.0  1.0   \n5889  0.0  0.0  0.0  0.0  0.0  0.0  0.0  0.0  0.0  0.0  ...  0.0  0.0  0.0   \n\n       64   65   66   67   68   69   70  \n8724  0.0  1.0  1.0  1.0  0.0  1.0  0.0  \n6153  0.0  1.0  1.0  1.0  0.0  0.0  0.0  \n7712  1.0  0.0  0.0  0.0  1.0  1.0  1.0  \n5777  0.0  0.0  0.0  0.0  0.0  0.0  0.0  \n7479  0.0  0.0  0.0  0.0  0.0  0.0  0.0  \n...   ...  ...  ...  ...  ...  ...  ...  \n4144  0.0  1.0  1.0  1.0  1.0  1.0  1.0  \n6485  1.0  0.0  0.0  0.0  1.0  1.0  1.0  \n3320  1.0  1.0  1.0  0.0  1.0  1.0  1.0  \n4976  1.0  0.0  0.0  0.0  1.0  1.0  1.0  \n5889  0.0  0.0  0.0  0.0  0.0  0.0  0.0  \n\n[796 rows x 71 columns]\nWall time: 866 ms\n"
    }
   ],
   "source": [
    "%%time\n",
    "# Split the data frame into several sub data frames\n",
    "# Shuffle the rows of the data frame\n",
    "shuffled = df.sample(frac=1)\n",
    "# Split into n parts with the same size, nmust be greater or equal than 10 because we want to find a set of locations less or equal that the 10% of the ones proposed\n",
    "n = 11\n",
    "result = np.array_split(shuffled, n)\n",
    "\n",
    "# Find a solution for every sub data frame\n",
    "final = []\n",
    "for i in range(len(result)):\n",
    "    m = 0\n",
    "    print(\"Data frame: \",i)\n",
    "    final.append(find_sol2(result[i]) )\n",
    "    print()\n",
    "\n",
    "\n",
    "# Find the better solution \n",
    "maximum = max(final)\n",
    "\n",
    "# Find the locations that correspond to the better solution\n",
    "data = final.index(maximum)\n",
    "\n",
    "# See if there is no solution if there is ,print the sub data frame that correspond to the better solution\n",
    "if all(v == 0 for v in final):\n",
    "    print('There is no solution')\n",
    "else:\n",
    "    print('The locations that maximize are the data frame ', data, '\\n' , result[data])\n"
   ]
  },
  {
   "cell_type": "code",
   "execution_count": 12,
   "metadata": {
    "tags": []
   },
   "outputs": [
    {
     "output_type": "stream",
     "name": "stdout",
     "text": "The maximum is  68 time periods \n The set of locations correspond to the data frame  3\nWall time: 26 ms\n"
    }
   ],
   "source": [
    "%%time\n",
    "# Compare the solution with the first feasible solution and see which one is better\n",
    "\n",
    "period_sol1 = len(count_columns(df))\n",
    "if (period_sol1 >= final[data]):\n",
    "    print ('The maximum is ', period_sol1, 'time periods', \"\\n\", 'The set of locations correspond to the set of the initial solution')\n",
    "else:\n",
    "    print('The maximum is ', final[data], 'time periods', \"\\n\", 'The set of locations correspond to the data frame ', data)\n"
   ]
  },
  {
   "cell_type": "code",
   "execution_count": null,
   "metadata": {},
   "outputs": [],
   "source": []
  }
 ]
}